{
 "cells": [
  {
   "cell_type": "markdown",
   "metadata": {},
   "source": [
    "### Depara Câmara Municipal RJ - TSE\n",
    "\n",
    "Este notebook foi feito como um auxílio para a criação de um depara entre os nomes dos vereadores da forma que aparecem nas leis e projetos de lei da Câmara Municipal do Rio de Janeiro, e os nomes de urna dos vereadores tal qual aparecem nos dados extraídos pelo TSE.\n",
    "\n",
    "Ele deve ser rodado após extrair as leis e projetos de lei desejados.\n",
    "\n",
    "A função \"create_depara\" cria a primeira versão do depara. Em seguida, a função \"correct_depara\" pode ser modificada para adicionar nomes faltantes e/ou modificar e deletar nomes incorretos que estão presentes nele. Para ajudar na identificação destes nomes faltantes, a função \"get_names_not_in_depara\" pode ser usada para ver quais nomes de vereadores nos dados da Câmara não estão presentes no depara."
   ]
  },
  {
   "cell_type": "code",
   "execution_count": 56,
   "metadata": {},
   "outputs": [],
   "source": [
    "import re\n",
    "\n",
    "import pandas as pd\n",
    "import numpy as np\n",
    "import psycopg2\n",
    "from unidecode import unidecode\n",
    "from sqlalchemy import create_engine\n",
    "\n",
    "from utils import clean_author_name"
   ]
  },
  {
   "cell_type": "code",
   "execution_count": 18,
   "metadata": {},
   "outputs": [],
   "source": [
    "def extract_projeto(s):\n",
    "    clean_s = s.replace('.', '').replace(\"//\", \"/\")\n",
    "    m = re.search('(Projeto de Lei|Proj Lei)( nº)? (\\d+)\\-?\\w? ?(/|,de|de| de|, de) ?(\\d+)', clean_s)\n",
    "    if m:\n",
    "        nr = m.group(3).zfill(4)\n",
    "        ano = m.group(5)\n",
    "        return '{}/{}'.format(nr, ano)\n",
    "    return ''"
   ]
  },
  {
   "cell_type": "code",
   "execution_count": 19,
   "metadata": {},
   "outputs": [],
   "source": [
    "def create_depara(df_camara, df_vereadores):\n",
    "    depara = {}\n",
    "    for row in df_camara.iterrows():\n",
    "        ano = row[1]['projeto'].split('/')[1]\n",
    "        \n",
    "        autores = clean_author_name(row[1]['autor'])\n",
    "        autores = autores.split(',')\n",
    "        autores = [autor.strip() for autor in autores]\n",
    "\n",
    "        df_valid = df_vereadores[df_vereadores['ano_eleicao'] > int(ano) - 4]\n",
    "        df_valid = df_valid[['nome_urna', 'nome', 'cpf']]\n",
    "\n",
    "        for autor in autores:\n",
    "            if autor in depara:\n",
    "                continue\n",
    "            \n",
    "            # Alguns nomes estão exatamente iguais nos dados do TSE\n",
    "            viable_names = df_valid[df_valid['nome_urna'] == autor]\n",
    "            if not viable_names.empty and len(viable_names['cpf'].unique()) == 1:\n",
    "                depara[autor] = (viable_names['nome_urna'].iloc[0], viable_names['cpf'].iloc[0])\n",
    "                continue\n",
    "\n",
    "            # Caso não encontre nos dados do TSE, procura por partes do nome\n",
    "            viable_names = df_valid.copy()\n",
    "            for part in autor.split():\n",
    "                part = part.replace('.', '')\n",
    "                viable1 = df_valid['nome_urna'].apply(lambda nm_dep: part in nm_dep)\n",
    "                viable2 = df_valid['nome'].apply(lambda nm_dep: part in nm_dep)\n",
    "                if np.any(viable1) or np.any(viable2):\n",
    "                    viable_names = viable_names[viable1 | viable2]\n",
    "\n",
    "            if not viable_names.empty and len(viable_names['cpf'].unique()) == 1:\n",
    "                depara[autor] = (viable_names['nome_urna'].iloc[0], viable_names['cpf'].iloc[0])\n",
    "    return depara\n",
    "\n",
    "def get_names_not_in_depara(df_camara, depara):\n",
    "    not_in_depara = set()\n",
    "    for row in df_camara.iterrows():\n",
    "        autores = clean_author_name(row[1]['autor'])\n",
    "        autores = autores.split(',')\n",
    "        autores = [autor.strip() for autor in autores]\n",
    "        \n",
    "        for autor in autores:\n",
    "            if autor not in depara:\n",
    "                not_in_depara.add(autor)\n",
    "    return not_in_depara\n",
    "\n",
    "def correct_depara(depara):\n",
    "    # Adicionar nomes faltantes\n",
    "    depara['DR. FERNANDO MORAES'] = ('FERNANDO MORAES', '78594200749')\n",
    "    depara['PROFESSOR ROGERIO ROCAL'] = ('ROGERIO ROCAL', '04555478746')\n",
    "    depara['VAL CEASA'] = ('VAL', '02867827744')\n",
    "    \n",
    "    # Tirar nomes errados\n",
    "    depara['MARCIO GARCIA'] = ('MARCIO GARCIA', '07668281746')\n",
    "    depara['ALOISIO FREITAS'] = ('ALOISIO FREITAS', '23568380749')\n",
    "    \n",
    "    del depara['COMISSAO DE CIENCIA TECNOLOGIA COMUNICACAO E INFORMATICA']"
   ]
  },
  {
   "cell_type": "code",
   "execution_count": 79,
   "metadata": {},
   "outputs": [],
   "source": [
    "df_projetos1720 = pd.read_csv('output/projetos_lei_1720.csv', ';')\n",
    "df_projetos1316 = pd.read_csv('output/projetos_lei_1316.csv', ';')\n",
    "df_projetos0912 = pd.read_csv('output/projetos_lei_0912.csv', ';')\n",
    "projetos = pd.concat([df_projetos1720, df_projetos1316, df_projetos0912])\n",
    "\n",
    "projetos.dropna(subset=['ementa', 'autor'], inplace=True)\n",
    "projetos.drop_duplicates(subset=['lei', 'data_publicacao'], inplace=True)\n",
    "\n",
    "projetos['nr_lei'] = projetos['lei'].apply(lambda x: x.split('/')[0])\n",
    "projetos['ano'] = projetos['lei'].apply(lambda x: x.split('/')[1])\n",
    "projetos.sort_values(['ano', 'nr_lei'], ascending=False, inplace=True)\n",
    "projetos.drop(['nr_lei', 'ano'], axis=1, inplace=True)\n",
    "\n",
    "projetos = projetos.rename({'lei': 'projeto'}, axis=1)\n",
    "\n",
    "projetos = projetos[projetos['projeto'].apply(lambda x: int(x.split('/')[1]) >= 2009)]"
   ]
  },
  {
   "cell_type": "code",
   "execution_count": 112,
   "metadata": {},
   "outputs": [],
   "source": [
    "df_leis = pd.read_csv('output/leis_ordinarias.csv', ';')\n",
    "\n",
    "df_leis['nr_projeto'] = df_leis['inteiro_teor'].apply(extract_projeto)"
   ]
  },
  {
   "cell_type": "code",
   "execution_count": 22,
   "metadata": {
    "scrolled": true
   },
   "outputs": [],
   "source": [
    "dfm = projetos.merge(\n",
    "    df_leis[['lei', 'ano', 'status', 'nr_projeto']].astype(str), \n",
    "    how='left', \n",
    "    left_on='projeto', \n",
    "    right_on='nr_projeto')\n",
    "\n",
    "dfm['status'] = dfm['status'].fillna('Não se aplica')\n",
    "dfm = dfm.drop(['nr_projeto'], axis=1)"
   ]
  },
  {
   "cell_type": "code",
   "execution_count": 41,
   "metadata": {},
   "outputs": [],
   "source": [
    "from sqlalchemy import create_engine\n",
    "from decouple import AutoConfig\n",
    "config = AutoConfig(search_path='.')\n",
    "\n",
    "POSTGRES_USER = config('POSTGRES_USER')\n",
    "POSTGRES_HOST = config('POSTGRES_HOST')\n",
    "POSTGRES_PORT = config('POSTGRES_PORT')\n",
    "POSTGRES_DB = config('POSTGRES_DB')\n",
    "\n",
    "engine = create_engine(f'postgresql://{POSTGRES_USER}@{POSTGRES_HOST}:{POSTGRES_PORT}/{POSTGRES_DB}')\n",
    "\n",
    "query = \"\"\"\n",
    "    select ano_eleicao, nome, nome_urna, cpf, sigla_partido, descricao_cargo, descricao_ue, descricao_totalizacao_turno\n",
    "    from eleitoral.candidatos\n",
    "    where descricao_cargo = 'VEREADOR'\n",
    "    and descricao_ue = 'RIO DE JANEIRO'\n",
    "    and descricao_totalizacao_turno in ('2O TURNO', 'ELEITO POR MEDIA', 'ELEITO POR QP', '2.O TURNO', 'MEDIA', 'ELEITO', 'SUPLENTE');\n",
    "\"\"\"\n",
    "\n",
    "df_tse = pd.read_sql(query, engine)"
   ]
  },
  {
   "cell_type": "code",
   "execution_count": 24,
   "metadata": {
    "scrolled": true
   },
   "outputs": [
    {
     "name": "stderr",
     "output_type": "stream",
     "text": [
      "/home/bernardocordeiro/anaconda3/lib/python3.7/site-packages/ipykernel_launcher.py:37: UserWarning: Boolean Series key will be reindexed to match DataFrame index.\n"
     ]
    }
   ],
   "source": [
    "depara = create_depara(dfm, df_tse)\n",
    "correct_depara(depara)\n",
    "df_depara = pd.DataFrame(\n",
    "    [[x[0], x[1][0], x[1][1]] for x in depara.items()], \n",
    "    columns=['nome_camara', 'nome_urna', 'cpf'])"
   ]
  },
  {
   "cell_type": "code",
   "execution_count": 26,
   "metadata": {},
   "outputs": [],
   "source": [
    "df_depara.to_sql('depara_vereadores_camara_tse', engine, schema='eleitoral', index=False)"
   ]
  },
  {
   "cell_type": "markdown",
   "metadata": {},
   "source": [
    "## Experimentação"
   ]
  },
  {
   "cell_type": "code",
   "execution_count": 137,
   "metadata": {},
   "outputs": [],
   "source": [
    "df_leis = pd.read_csv('output/emendas_lei_organica.csv', ';')"
   ]
  },
  {
   "cell_type": "code",
   "execution_count": 143,
   "metadata": {},
   "outputs": [],
   "source": [
    "def extract_projeto_complementar(s, t=1):\n",
    "    clean_s = s.replace('.', '').replace(\"//\", \"/\")\n",
    "    m = re.search('(ProjetodeEmendaàLeiOrgânica|PropostadeEmenda)(nº)?(\\d+)\\-?\\w?(/|,de|de|)(\\d+)', re.sub('\\s', '', clean_s))\n",
    "    if m:\n",
    "        nr = m.group(3).zfill(4)\n",
    "        ano = m.group(5)\n",
    "        return '{}/{}'.format(nr, ano)\n",
    "    return ''"
   ]
  },
  {
   "cell_type": "code",
   "execution_count": 144,
   "metadata": {},
   "outputs": [],
   "source": [
    "df_leis['nr_projeto'] = df_leis['inteiro_teor'].apply(extract_projeto_complementar)"
   ]
  },
  {
   "cell_type": "code",
   "execution_count": 147,
   "metadata": {},
   "outputs": [],
   "source": [
    "TEST = 'oi'\n",
    "TEST2 = 'opa'"
   ]
  },
  {
   "cell_type": "code",
   "execution_count": 155,
   "metadata": {},
   "outputs": [
    {
     "name": "stdout",
     "output_type": "stream",
     "text": [
      "blabla:oi...opa\n"
     ]
    }
   ],
   "source": [
    "print(\n",
    "    f'blabla:'\n",
    "    f'{TEST}...{TEST2}'\n",
    "     )"
   ]
  }
 ],
 "metadata": {
  "kernelspec": {
   "display_name": "Python 3",
   "language": "python",
   "name": "python3"
  },
  "language_info": {
   "codemirror_mode": {
    "name": "ipython",
    "version": 3
   },
   "file_extension": ".py",
   "mimetype": "text/x-python",
   "name": "python",
   "nbconvert_exporter": "python",
   "pygments_lexer": "ipython3",
   "version": "3.7.4"
  }
 },
 "nbformat": 4,
 "nbformat_minor": 2
}
